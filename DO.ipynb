{
  "nbformat": 4,
  "nbformat_minor": 0,
  "metadata": {
    "colab": {
      "name": "DO.ipynb",
      "provenance": [],
      "collapsed_sections": [],
      "authorship_tag": "ABX9TyN2TbPLfAayA3MC+HCsbgKu",
      "include_colab_link": true
    },
    "kernelspec": {
      "name": "python3",
      "display_name": "Python 3"
    },
    "language_info": {
      "name": "python"
    }
  },
  "cells": [
    {
      "cell_type": "markdown",
      "metadata": {
        "id": "view-in-github",
        "colab_type": "text"
      },
      "source": [
        "<a href=\"https://colab.research.google.com/github/VadimPusiak788/DO/blob/master/DO.ipynb\" target=\"_parent\"><img src=\"https://colab.research.google.com/assets/colab-badge.svg\" alt=\"Open In Colab\"/></a>"
      ]
    },
    {
      "cell_type": "markdown",
      "metadata": {
        "id": "uM-prODEB-n2"
      },
      "source": [
        "<left>\n",
        "    <img src=\"https://kpi.ua/files/images/kpi.png\" width=\"300\" alt=\"kpi logo\"  />\n",
        "</left>\n"
      ]
    },
    {
      "cell_type": "markdown",
      "metadata": {
        "id": "jDkC7yOhCBfn"
      },
      "source": [
        "# **Метод Девідона-Флетчера-Паула**"
      ]
    },
    {
      "cell_type": "markdown",
      "metadata": {
        "id": "68eKeYhPJ77X"
      },
      "source": [
        "### Виконав студент групи КМ-82 Пусяк Вадим"
      ]
    },
    {
      "cell_type": "markdown",
      "metadata": {
        "id": "XCNdOcOfraAU"
      },
      "source": [
        "# Зміст\n",
        "\n",
        "\n",
        "*   Постановка задачі\n",
        "*   Теоретична частина\n",
        "*   Розрахункова частина"
      ]
    },
    {
      "cell_type": "markdown",
      "metadata": {
        "id": "xMM1y2pYLqbS"
      },
      "source": [
        "\n",
        "# Постановка задачі:\n",
        "Дослідити збіжність метода Девідона-Флетчера-Пауелла при мінімізації кореневої функції $f(x) = (10(x_1-x_2)^2+(x_1-1)^2)^{1/4}$  в залежності від:\n",
        "\n",
        "\n",
        "\n",
        "1.  Величини кроку h при обчисленні похідних.\n",
        "2.  Схеми обчислення похідних.\n",
        "3. Виду методу одновимірного пошуку (ДСК-Пауелла або Золотого перетину).\n",
        "4. Точності методу одновимірного пошуку.\n",
        "5. Значення параметру в алгоритмі Свена.\n",
        "6. Вигляду критерію закінчення\n",
        "7. Наявності рестартів\n",
        "\n",
        "Використати метод штрафних функцій (метод внутрішньої точки) для умовної оптимізації в залежності від:\n",
        "\n",
        "  1. Розташування локального мінімума (всередині/поза допустимою областю).\n",
        "  2. Виду допустимої області (випукла/невипукла).\n",
        "\n",
        "# Теоритична частина\n",
        "\n",
        "**Мінімізувати кореневу функцію методом Девідона-Флетчера-Пауелла**\n",
        "\n",
        "Метод Девідона - Флетчера - Пауелла не вимагає обчислення оберненої матриці Гессе. Матриця напрямків А обчислюється таким чином, щоб для квадратичної цільової функції в межі після n кроків вона дорівнювала $H^{-1}$. Вихідна матриця А зазвичай вибирається у вигляді одиничної матриці (але може бути і будь-якою симетричною позитивно визначеною матрицею), так, що вихідний напрямок мінімізації - це напрямок найшвидшого спуску. В ході оптимізації відбувається поступовий перехід від напрямку найшвидшого спуску до ньютоновского напрямку (на відповідних етапах мінімізації використовуються переваги кожного з цих підходів).\n",
        "\n"
      ]
    },
    {
      "cell_type": "markdown",
      "metadata": {
        "id": "uFGbSpd0tTS6"
      },
      "source": [
        "**Аналітичне обчислення**\n",
        "\n",
        "Мінімум функції був обчислений аналітично. Дана функція має найменше значення $f(x)=0$ у точці $x = (1, 1)$ "
      ]
    },
    {
      "cell_type": "markdown",
      "metadata": {
        "id": "xWElrESGTxfR"
      },
      "source": [
        "**Порівняльна характеристика впливу різних параметрів на роботу програми**\n",
        "\n",
        "**Вплив велечини кроку при очисленні похідної** \n",
        "\n",
        "\n",
        "|Величина кроку обчислення похідної| Точка мінімума яку дає алгоритм|Кількість|\n",
        "|----------------------------------|:-------------------------------|:--------|\n",
        "|0.00000001                        |[1.00000001 0.99999999]         | 61      |\n",
        "|0.00001                           |[0.99999851 1.00000126]         |61       |\n",
        "|0.001                             |[0.99017817 0.98982989]         | 800     |\n",
        "|0.01                              |[0.89557064 0.89051382]         | 1419    |\n",
        "\n",
        "Можна зробити висновок, що чим менший крок, тим більша точність. Тому для подальших робіт буде обрано велечину кроку 0.00001, адже воно поєднує в собі і меншу кількість очислень і більш високу точність.\n",
        "\n",
        "**Вплив різницевих схем при обчисленні кроку похідної** \n",
        "\n",
        "\n",
        "|Схема обчислення похідних         | Точка мінімума яку дає алгоритм|Кількість|\n",
        "|----------------------------------|:-------------------------------|:--------|\n",
        "|Ліва                              |[0.99999999 1.00000001]         | 79      |\n",
        "|Права                             |[1.00000001 0.99999999]         |78       |\n",
        "|Центральна                        |[1. 1.]                         | 61      |\n",
        "\n",
        "З отриманих результатів можна сказати, що центральна схума похідних має найменшу кількість обчислень, серед представлених схем, тому далі роботи будуть проводитися зі цетральною схемою\n",
        "\n",
        "**Вплив точності одномірного пошуку (Золотого перетину)**\n",
        "\n",
        "|Величина похибки                  | Точка мінімума яку дає алгоритм|Кількість|\n",
        "|----------------------------------|:-------------------------------|:--------|\n",
        "|0.1                               |[1.00008362 1.00017248]         |122      |\n",
        "|0.01                              |[1.00000641 0.99999028]         |117      |\n",
        "|0.0001                            |[1.00004096 0.99995665]         |117      |\n",
        "|0.000001                          |[1.00000418 0.99999762]         |151      |\n",
        "\n",
        "**Вплив точності одномірного пошуку (ДСК-Пауелла)**\n",
        "\n",
        "|Величина похибки                  | Точка мінімума яку дає алгоритм|Кількість|\n",
        "|----------------------------------|:-------------------------------|:--------|\n",
        "|0.1                               |[1.00000001 0.99999999]         |61       |\n",
        "|0.01                              |[1. 1.]                         |59       |\n",
        "|0.0001                            |[1. 1.]                         |63       |\n",
        "|0.000001                          |[1. 1.]                         |62       |\n",
        "\n",
        "З отриманих результатів можна побачити, що в методі золотого перетину найменша кількість обчисленнь і набільша точність досягається при значенні похибки 0.01.\n",
        "У методі ДСК-Пауелла найменша кількість обрахунків досягається із значенням похибки 0.01. Саме цю похибку похибкою.\n",
        "\n",
        "**Вплив виду одномірного пошуку на отриманні результати**\n",
        "\n",
        "|Назва методу                  | Точка мінімума яку дає алгоритм|Кількість|\n",
        "|----------------------------------|:-------------------------------|:--------|\n",
        "|Золотий перетин                   |[1.00000651 0.99999039]         |117      |\n",
        "|ДСК-Пауелла                       |[1. 1.]                         |59       |\n",
        "\n",
        "Можна зробити висновок, що метод ДСК-Пауелла, має меншу кількість обчислень та більшу точність, далі будемо використовувати його.\n",
        "\n",
        "**Вплив значення параметру в алгоритмі Свена**\n",
        "\n",
        "|Величина параметра Свена          | Точка мінімума яку дає алгоритм|Кількість|\n",
        "|----------------------------------|:-------------------------------|:--------|\n",
        "|1                                 |[1. 1.]                         |63       |\n",
        "|0.1                               |[1. 1.]                         |59       |\n",
        "|0.01                              |[1. 1.]                         |60       |\n",
        "|0.001                             |[1. 1.]                         |60       |\n",
        "\n",
        "З отриманих результатів видно, що найменша кількість обчислень досягається, коли значення параметра Свена дорівнює 0.1.\n",
        "\n",
        "\n",
        "Найкраще себе показала центральна схема похідних із кроком 0.00001. Також краще себе показав алгоритм одномірного пошуку ДСК-Пауелла з параметром Свена 0.1."
      ]
    },
    {
      "cell_type": "markdown",
      "metadata": {
        "id": "7KXRY3fQ5O7d"
      },
      "source": [
        "**Умовна оптимізація**\n",
        "Алгоритм був вдосконалений для вирішення задач умвоної оптимізації.\n",
        "\n",
        "Нехай маємо наступне обмеження нерівності:\n",
        "$-x_1^2-x_2^2 + 1.2 \\geq 0$\n",
        "\n",
        "Штрафна функція: $(10(x_1-x_2)^2+(x_1-1)^2)^{1/4}+R*ln(-x_1^2-x_2^2+1.2)$\n",
        "\n",
        "**Залежність збіжності функції від штрафного параметру для умовної оптимізації (область випукла)**\n",
        "\n",
        "|R              | Точка                     |\n",
        "|---------------|---------------------------|\n",
        "|0.001          |[0.98812748 0.98753498]    |\n",
        "|0.1            |[0.8222626  0.81346434]    |\n",
        "|1              |[0.78543425 0.77477891]    |\n",
        "|10             |[0.78059561 0.7697009 ]    |\n",
        "|100            |[0.78008936 0.76918005]    |\n",
        "|1000           |  [0.78004411 0.76912226]  |\n",
        "\n",
        "Додамо ще одне обмеження та зробимо допустиму область невипуклою:\n",
        "Нехай маємо наступне обмеження нерівності:\n",
        "\n",
        "$(10(x_1-x_2)^2+(x_1-1)^2)^{1/4}+R*ln(-x_1^2-x_2^2+1.2)+ R(x_1^2+x_2^2-0.4)^2$\n",
        "\n",
        "**Залежність збіжності функції від штрафного параметру для умовної оптимізації (область невипукла)**\n",
        "\n",
        "|R              | Точка                     |\n",
        "|---------------|---------------------------|\n",
        "|0.001          |[0.90015638 0.89502437]    |\n",
        "|0.1            | [0.75125694 0.73899771]    |\n",
        "|1              |[0.68898065 0.67364426]    |\n",
        "|10             |[0.6798966  0.66381786]    |\n",
        "|100            |[-0.62558725 -0.71212328]  |\n",
        "|1000           |  [0.67872203 0.66284714]  |"
      ]
    },
    {
      "cell_type": "markdown",
      "metadata": {
        "id": "Yo2vhjk5CfMf"
      },
      "source": [
        "Імпортуємо всі необхідні бібліотеки"
      ]
    },
    {
      "cell_type": "code",
      "metadata": {
        "id": "vucTMqP0EMpU"
      },
      "source": [
        "import math\n",
        "import numpy as np\n",
        "import matplotlib.pylab as pl\n",
        "from numpy.linalg import norm\n",
        "from prettytable import PrettyTable\n"
      ],
      "execution_count": null,
      "outputs": []
    },
    {
      "cell_type": "markdown",
      "metadata": {
        "id": "GlZnhLnoCGPa"
      },
      "source": [
        "Визначемо константи"
      ]
    },
    {
      "cell_type": "code",
      "metadata": {
        "id": "lAunkEx5CGeD"
      },
      "source": [
        "H = 1e-5 # Приріст похідної\n",
        "EPS1 = 0.01 # Точність методу ДФП\n",
        "EPS2 = 0.001 # Точність одномірного пошуку\n",
        "L = 0.1 # Параметр в алгоритмі Свенна"
      ],
      "execution_count": null,
      "outputs": []
    },
    {
      "cell_type": "markdown",
      "metadata": {
        "id": "kQyo1V-VE_nG"
      },
      "source": [
        "Визначаємо змінну, яка буде підраховувати кількість викликів нашої функції"
      ]
    },
    {
      "cell_type": "code",
      "metadata": {
        "id": "SB8kTEEYFJ8G"
      },
      "source": [
        "count_fun = 0"
      ],
      "execution_count": null,
      "outputs": []
    },
    {
      "cell_type": "markdown",
      "metadata": {
        "id": "2Kbmh5X1nJ2s"
      },
      "source": [
        "Також функція, яка буде підраховувати кількість викликів нашої функції"
      ]
    },
    {
      "cell_type": "code",
      "metadata": {
        "id": "YZDNR83_nQM2"
      },
      "source": [
        "def count_func():\n",
        "    global count_fun\n",
        "    count_fun = count_fun+1 # Додаємо одиню, коли функцію буде викликано"
      ],
      "execution_count": null,
      "outputs": []
    },
    {
      "cell_type": "markdown",
      "metadata": {
        "id": "t2OtvgDXe_bi"
      },
      "source": [
        "Наша функція"
      ]
    },
    {
      "cell_type": "code",
      "metadata": {
        "id": "QksiUro1fCEO"
      },
      "source": [
        "def fun(x):\n",
        "    count_func() # Виклик функції для підрахунку кількості викликів нашої функції\n",
        "    return (10*(x[0] - x[1])**2 + (x[0]-1)**2)**1/4 # Задана функція\n"
      ],
      "execution_count": null,
      "outputs": []
    },
    {
      "cell_type": "markdown",
      "metadata": {
        "id": "Pt_zglwA8wAy"
      },
      "source": [
        "Функція для приросту похідної"
      ]
    },
    {
      "cell_type": "code",
      "metadata": {
        "id": "sN38eExrAz_x"
      },
      "source": [
        "def search_step(x, n):\n",
        "    return [H if i==n else 0 for i in range(len(x))]  # Масив значень приростів функції"
      ],
      "execution_count": null,
      "outputs": []
    },
    {
      "cell_type": "markdown",
      "metadata": {
        "id": "GctBy1Gldl_0"
      },
      "source": [
        "Функція для обчислення градієнту, методом центральних різниць\n",
        "\n",
        "$f'(x) = \\frac{ f(x-h)- f(x+h)}{2h}$\n",
        "\n",
        "\n"
      ]
    },
    {
      "cell_type": "code",
      "metadata": {
        "id": "j5jz7V0TeUJ_"
      },
      "source": [
        "def center_derivative(x, n): \n",
        "    h = search_step(x, n)\n",
        "    return (fun([x[0] + h[0], x[1] + h[1]]) - fun([x[0] - h[0], x[1] - h[1]]))/(2*h[n]) # Значення похідної схемою центральних різниць"
      ],
      "execution_count": null,
      "outputs": []
    },
    {
      "cell_type": "markdown",
      "metadata": {
        "id": "NNVRPzwfngKV"
      },
      "source": [
        "Функція для обчислення градієнту, методом лівих кінцевих різниць\n",
        "$f'(x) = \\frac{ f(x)- f(x-h)}{h}$\n",
        "\n"
      ]
    },
    {
      "cell_type": "code",
      "metadata": {
        "id": "H-DxwysKngVJ"
      },
      "source": [
        "def left_derivative(x, n):\n",
        "    h = search_step(x, n)\n",
        "    return (fun(x) - fun([x[0] - h[0], x[1] - h[1]]))/(h[n]) # Значення похідної схемою лівої різниці"
      ],
      "execution_count": null,
      "outputs": []
    },
    {
      "cell_type": "markdown",
      "metadata": {
        "id": "_OtVwU-6ngpR"
      },
      "source": [
        "Функція для обчислення градієнту, методом правих кінцевих різниць\n",
        "\n",
        "$f'(x) = \\frac{ f(x+h)- f(x)}{h}$\n",
        "\n"
      ]
    },
    {
      "cell_type": "code",
      "metadata": {
        "id": "cpSRO6Qgng8c"
      },
      "source": [
        "def right_derivative(x, n): \n",
        "    h = search_step(x, n)\n",
        "    return (fun([x[0] + h[0], x[1] + h[1]]) - fun(x))/(h[n]) # Значення похідної схемою лівої різниці"
      ],
      "execution_count": null,
      "outputs": []
    },
    {
      "cell_type": "markdown",
      "metadata": {
        "id": "3XayWQ8Boqig"
      },
      "source": [
        "Функція для переходу в точку $x^{(i+1)}$\n",
        "\n",
        "$x^{(i+1)}=x^{i}+\\lambda_0S^{(i)}$\n"
      ]
    },
    {
      "cell_type": "code",
      "metadata": {
        "id": "lDVs2R7coqv_"
      },
      "source": [
        "def next_point(x0, A, grad, lmb):\n",
        "    return x0 - np.dot(np.dot(lmb, A), grad) # Перехід в наступну точку"
      ],
      "execution_count": null,
      "outputs": []
    },
    {
      "cell_type": "markdown",
      "metadata": {
        "id": "QcUcnUBrTAKy"
      },
      "source": [
        "Довжина кроку в алгоритмі Свенна\n",
        "\n",
        "$\\Delta\\lambda=\\alpha(\\frac{||x^{(k)}||}{||S^{(k)||}})$"
      ]
    },
    {
      "cell_type": "code",
      "metadata": {
        "id": "Hf2xUEq1S-Ww"
      },
      "source": [
        "def delta_lmb(x0, direct):\n",
        "    return L * (norm(x0)/norm(direct)) # Обрахунок довжини кроку в агоритмі Свенна "
      ],
      "execution_count": null,
      "outputs": []
    },
    {
      "cell_type": "markdown",
      "metadata": {
        "id": "Pkloe6zeliNw"
      },
      "source": [
        "Функція для обрахунку інтервалу не визначеності, алгоритмом Свена"
      ]
    },
    {
      "cell_type": "code",
      "metadata": {
        "id": "GfV_4QVVoScB"
      },
      "source": [
        "def sven(x0, grad, delta, A, direct):\n",
        "    lmb = delta_lmb(x0, direct) # Визначаємо крок \n",
        "    start = fun(next_point(x0, A, grad, lmb)) # Обраховуємо значення функції у наступній точці\n",
        "    if start < fun(next_point(x0, A, grad, lmb+delta)): # Шукає напрямок в якому рухатися\n",
        "        delta = -delta # Якщо функція в наступній точці збільшується, тоді будемо зменувати дельту\n",
        "    x1 = lmb + delta\n",
        "    next_val = fun(next_point(x0, A, grad, x1)) # Значення функції в наступній точці\n",
        "    while next_val < start: # Продовжує пошук до тих пір поки значення функції перестане зменшуватися\n",
        "        delta *= 2 # На кожному кроці збільшуємо дельту в 2 рази\n",
        "        lmb = x1\n",
        "        x1 = lmb + delta\n",
        "        start = next_val\n",
        "        next_val = fun(next_point(x0, A, grad, x1))\n",
        "    a = lmb + delta/2 # Розділяємо інтервал\n",
        "    b = lmb - delta/2 # Розділяємо інтервал\n",
        "    start = fun(next_point(x0, A, grad, lmb))\n",
        "    next_val = fun(next_point(x0, A, grad, b))    \n",
        "    # Обераємо інтервал  \n",
        "    if start < next_val:\n",
        "        if a < b:\n",
        "            return [a, b]\n",
        "        else:\n",
        "            return [b, a]\n",
        "    elif next_val < start:\n",
        "        if lmb < x1:\n",
        "            return [lmb, x1]\n",
        "        else:\n",
        "            return [x1, lmb]\n"
      ],
      "execution_count": null,
      "outputs": []
    },
    {
      "cell_type": "markdown",
      "metadata": {
        "id": "g6SAkbaUonaA"
      },
      "source": [
        "Обчислюємо мінімум апроксимуючого поліному"
      ]
    },
    {
      "cell_type": "code",
      "metadata": {
        "id": "xJlPdw5Qom9p"
      },
      "source": [
        "def dsk_paul(x0, grad, delta, A, direct): \n",
        "    svenn_res = sven(x0, grad, delta, A, direct) # інтервал невизначеності\n",
        "    x1 = svenn_res[0] # Обираємо початок інтервалу\n",
        "    x3 = svenn_res[1] # Кінець інтервалу\n",
        "    x2 = (x1 + x3)/2  # Середина інтервалу\n",
        "    f1 = fun(next_point(x0, A, grad, x1)) # Знаходимо значення функції у цих точках\n",
        "    f2 = fun(next_point(x0, A, grad, x2)) # Знаходимо значення функції у цих точках\n",
        "    f3 = fun(next_point(x0, A, grad, x3)) # Знаходимо значення функції у цих точках\n",
        "    x_a = x2 + ((x3 - x2) * (f1 - f3)) / (2 * (f1 - 2 * f2 + f3)) # Аппроксиммирующий полином\n",
        "    return [x1, x2, x3, x_a]"
      ],
      "execution_count": null,
      "outputs": []
    },
    {
      "cell_type": "markdown",
      "metadata": {
        "id": "DeTOmpNGo8Cp"
      },
      "source": [
        "Перевірка на закінчення пошуку, та повернення мінімального значення, методом ДСК-Пауелла\n"
      ]
    },
    {
      "cell_type": "code",
      "metadata": {
        "id": "WlX7eJi7o8a-"
      },
      "source": [
        "def check(x0, grad, eps, delta, A, direct):\n",
        "    dsc_res = dsk_paul(x0, grad, delta, A, direct) # масив значеннь\n",
        "    a = dsc_res[0] \n",
        "    xmin = dsc_res[1]\n",
        "    b = dsc_res[2]\n",
        "    x_a = dsc_res[3]\n",
        "\n",
        "    while abs(xmin-x_a) >= eps or abs(fun(next_point(x0, A, grad, xmin)) - fun(next_point(x0, A, grad, x_a))) >= eps: # Перевірка на закінчення пошуку\n",
        "        if x_a < xmin: # Обираємо найменше значення\n",
        "            b = xmin\n",
        "        else:\n",
        "            a = xmin\n",
        "        xmin = x_a\n",
        "        func_arr =  [fun(next_point(x0, A, grad, a)), fun(next_point(x0, A, grad, xmin)), fun(next_point(x0, A, grad, b))]\n",
        "        x_a = (a + xmin) / 2 - (func_arr[1] - func_arr[0]) / (xmin - a) / (2 * ((func_arr[2] - func_arr[0]) / (b - a) - (func_arr[1] - func_arr[0]) / (xmin - a)) / (b - xmin))\n",
        "\n",
        "    return xmin   "
      ],
      "execution_count": null,
      "outputs": []
    },
    {
      "cell_type": "markdown",
      "metadata": {
        "id": "dNXyoARgvMQs"
      },
      "source": [
        "Метод золотого перетину"
      ]
    },
    {
      "cell_type": "code",
      "metadata": {
        "id": "TAdprPbhpzRF"
      },
      "source": [
        "def gold(a, b, eps, x0, grad, A):\n",
        "    l = b-a    # Довжина інтервалу\n",
        "    x1 = a + l * 0.382 # Точки на відрізку за методом золотого перетину\n",
        "    x2 = a + l * 0.618 # Точки на відрізку за методом золотого перетину\n",
        "    while abs(b-a) > eps: # Перевірка на закінчення пошуку\n",
        "        if fun(next_point(x0, A, grad, x1)) < fun(next_point(x0, A, grad, x2)): # Алгоритм методу\n",
        "            b = x2 \n",
        "            x2 = x1\n",
        "            l = b-a\n",
        "            x1 = a + l * 0.382\n",
        "            \n",
        "        else:\n",
        "            a = x1\n",
        "            x1 = x2\n",
        "            l = b-a\n",
        "            x2 = a + l * 0.618\n",
        "             \n",
        "   \n",
        "    return [a, b] "
      ],
      "execution_count": null,
      "outputs": []
    },
    {
      "cell_type": "markdown",
      "metadata": {
        "id": "O0ufQ_tFvq-a"
      },
      "source": [
        "Вибір лямбди оптимальної, з методу золотого перетину"
      ]
    },
    {
      "cell_type": "code",
      "metadata": {
        "id": "7TRk0gx2vrsr"
      },
      "source": [
        "   \n",
        "def calcLambdaQuasi(x0, grad, eps, delta, A, direct):\n",
        "    line = sven(x0, grad, delta, A, direct) # Інтеравл невизначеності\n",
        "    line = gold(line[0], line[1], eps, x0, grad, A) # Інтервал методом методом золотого перетину\n",
        "    return (line[0] + line[1])/2 # Обераємо лямбда оптимальне з інтервалу"
      ],
      "execution_count": null,
      "outputs": []
    },
    {
      "cell_type": "markdown",
      "metadata": {
        "id": "Ng-o91rQuOY8"
      },
      "source": [
        "Допоміжна функція, для обчислення різниці двох масивів"
      ]
    },
    {
      "cell_type": "code",
      "metadata": {
        "id": "drnksmLquOjF"
      },
      "source": [
        "def differnce(x, y):\n",
        "    return [list1_i - list2_i for list1_i, list2_i in zip(x, y) ] # Різниці двох масивів"
      ],
      "execution_count": null,
      "outputs": []
    },
    {
      "cell_type": "markdown",
      "metadata": {
        "id": "62BB93Vz_PNj"
      },
      "source": [
        "Обчислення градієнту обраним методом"
      ]
    },
    {
      "cell_type": "code",
      "metadata": {
        "id": "lBokvDZzwqgQ"
      },
      "source": [
        "def gradient(x):\n",
        "    grad = [center_derivative(x, i) for i in range(len(x))] \n",
        "    return grad # Масив значень градієнту"
      ],
      "execution_count": null,
      "outputs": []
    },
    {
      "cell_type": "markdown",
      "metadata": {
        "id": "h8VpGJwLuX0b"
      },
      "source": [
        "Функція для обчислення матриці  $A$\n",
        "\n",
        "$A^{i+1} = A^{i}+ \\frac{\\Delta x^{(i)}\\Delta x^{(i)^{T}}}{\\Delta x^{(i)^{T}}\\Delta g^{(i)}} - \\frac{A^{(i)}\\Delta g^{(i)}\\Delta g^{(i)^{T}}A^{(i)}}{\\Delta g^{(i)^{T}}A^{(i)} \\Delta g^{(i)}} $"
      ]
    },
    {
      "cell_type": "code",
      "metadata": {
        "id": "ChWX32ayvDrt"
      },
      "source": [
        "def culc_matrix(x0, x1, A):\n",
        "    g = np.array(differnce(gradient(x1), gradient(x0)))[np.newaxis] # дельта g\n",
        "    x = np.array(differnce(x1, x0))[np.newaxis] # дульта x\n",
        "    xt = np.array(x).T # дельта х транспонована\n",
        "    gt = np.array(g).T # дельта g транспонована\n",
        "            \n",
        "    \n",
        "    return A + np.dot(xt, x)/np.dot(x,gt) - np.dot(np.dot(np.dot(A, gt), g), A)/np.dot(np.dot(g, A), gt) # Обчислення матриці А\n",
        "    "
      ],
      "execution_count": null,
      "outputs": []
    },
    {
      "cell_type": "markdown",
      "metadata": {
        "id": "rFZy31AByYaS"
      },
      "source": [
        "Функція для зображення графіку"
      ]
    },
    {
      "cell_type": "code",
      "metadata": {
        "id": "RWnsDG98yXgj"
      },
      "source": [
        "def plot(points, col):\n",
        "    n = 256\n",
        "    x = np.linspace(-30, 30, n) # Створюємо віссь Х\n",
        "    y = np.linspace(-30, 30, n) # Створюємо віссь Y\n",
        "    X, Y = np.meshgrid(x, y) \n",
        "    \n",
        "    xs = []\n",
        "    ys = []\n",
        "    \n",
        "    pl.contourf(X, Y, fun([X, Y]), 8, alpha=.75, cmap='jet')\n",
        "    pl.contour(X, Y, fun([X, Y]), 8, colors='black', linewidth=.5) \n",
        "    \n",
        "    for i in range(len(points)):\n",
        "        xs.append(points[i][0]) # Додаємо значення на оссь х\n",
        "        ys.append(points[i][1]) # Додаємо значення на оссь y\n",
        "    \n",
        "    pl.plot(xs, ys, marker='o', linestyle='--', color=str(col), label='Square') # Зображуємо графік\n",
        "    "
      ],
      "execution_count": null,
      "outputs": []
    },
    {
      "cell_type": "markdown",
      "metadata": {
        "id": "SgTyQOahvRU1"
      },
      "source": [
        "Основна функція"
      ]
    },
    {
      "cell_type": "code",
      "metadata": {
        "colab": {
          "base_uri": "https://localhost:8080/",
          "height": 603
        },
        "id": "rTKfALD4yGRZ",
        "outputId": "924748cf-3a3e-4d76-c737-b9d4f68b4ad6"
      },
      "source": [
        "def dfp(x0, eps1, eps2):\n",
        "    restart = 0\n",
        "    iter = 0 # Змінна для значень ітерацій\n",
        "    xs = [] #Массив точок мінімізації\n",
        "    xs.append(x0)\n",
        "    A = np.eye(len(x0)) # Початкова одинична матриця\n",
        "    directions = [[0,1],[1,0]]\n",
        "    DELTA = 0.1 \n",
        "    t = PrettyTable(['Name', 'Value'])\n",
        "    print('\\tStart Point', x0)\n",
        "    while True:   \n",
        "                \n",
        "            grad = gradient(x0)\n",
        "            \n",
        "            if iter > 0:\n",
        "                if norm(grad) < eps1:\n",
        "                    t.add_rows([\n",
        "                                ['FUNCTIONS COUNT', count_fun],\n",
        "                                ['ITERATIONS', iter],\n",
        "                                ['RESTARTS', restart],\n",
        "\n",
        "                    ])\n",
        "                    print(t)\n",
        "                    plot(xs, 'red') # Зображення графіку передаємо масив точок і коліа\n",
        "\n",
        "                    break\n",
        "\n",
        "            if iter % 2 ==0: # Вибір напрямку\n",
        "                direct = directions[0]\n",
        "            else:\n",
        "                direct = directions[1]\n",
        "            lmb = check(x0, grad, eps2, DELTA, A, direct)\n",
        "            # lmb = calcLambdaQuasi(x0, grad, eps2, DELTA, A, direct)\n",
        "            \n",
        "            if lmb < 0: # Перевірка на рестарти\n",
        "                A = np.eye(len(x0))  # Задаємо одиничну матрицю\n",
        "                restart = restart+1   \n",
        "                \n",
        "            x1 = next_point(x0, A, grad, lmb) # Наступна точка\n",
        "                                    \n",
        "                       \n",
        "            A = culc_matrix(x0, x1, A) # Обраховуємо матриця А\n",
        "           \n",
        "\n",
        "            x0 = x1\n",
        "            xs.append(x0) # Додаємо точку в наш масив\n",
        "            t.add_rows([\n",
        "                                ['FUNCTIONS COUNT', count_fun],\n",
        "                                ['ITERATIONS', iter],\n",
        "                                ['RESTARTS', restart],\n",
        "                                ['X', x1]\n",
        "\n",
        "                    ])\n",
        "            iter +=1\n",
        "\n",
        "    print(\"\\tMin Point\", x1)     \n",
        "            \n",
        "  \n",
        "def main():\n",
        "    dfp([-1.2, 0], EPS1, EPS2)\n",
        "    \n",
        "\n",
        "\n",
        "if __name__ == '__main__':\n",
        "   main()  \n",
        "\n",
        "   \n",
        "        "
      ],
      "execution_count": null,
      "outputs": [
        {
          "output_type": "stream",
          "text": [
            "\tStart Point [-1.2, 0]\n",
            "+-----------------+---------------------------+\n",
            "|       Name      |           Value           |\n",
            "+-----------------+---------------------------+\n",
            "| FUNCTIONS COUNT |             25            |\n",
            "|    ITERATIONS   |             0             |\n",
            "|     RESTARTS    |             0             |\n",
            "|        X        | [-0.50539765 -0.5869879 ] |\n",
            "| FUNCTIONS COUNT |             55            |\n",
            "|    ITERATIONS   |             1             |\n",
            "|     RESTARTS    |             0             |\n",
            "|        X        |          [1. 1.]          |\n",
            "| FUNCTIONS COUNT |             59            |\n",
            "|    ITERATIONS   |             2             |\n",
            "|     RESTARTS    |             0             |\n",
            "+-----------------+---------------------------+\n",
            "\tMin Point [1. 1.]\n"
          ],
          "name": "stdout"
        },
        {
          "output_type": "stream",
          "text": [
            "/usr/local/lib/python3.7/dist-packages/ipykernel_launcher.py:11: UserWarning: The following kwargs were not used by contour: 'linewidth'\n",
            "  # This is added back by InteractiveShellApp.init_path()\n"
          ],
          "name": "stderr"
        },
        {
          "output_type": "display_data",
          "data": {
            "image/png": "[encoded data removed]",
            "text/plain": [
              "<Figure size 432x288 with 1 Axes>"
            ]
          },
          "metadata": {
            "tags": [],
            "needs_background": "light"
          }
        }
      ]
    },
    {
      "cell_type": "markdown",
      "metadata": {
        "id": "a0C61F5V7Eih"
      },
      "source": [
        "**Висновки**\n",
        "\n",
        "Ми провели дослідження у рамках курсової роботи метода Девідона-Флетчера-Паула для мінімізації кореневої функції в залежності від: кроку обчислення похідних, схеми обчислення похідних, методу одновимірного пошуку, точності методу одновимірного пошуку, параметра в алгоритмі Свенна, критерію закінчення.\n",
        "Функція досить сильно залежить від кроку обчислення похідних та із зменшенням його значення в 10 разів кількість обчислень зменшується в середньому на 100 раз. Було обране оптимальне значення 0.00001. Залежність від схеми обчислення похідних є практично однаковою у випадку лівої або правої схеми. Але найкраще себе показала центральна схема. Стосовно методу одномірного пошуку, то метод ДСК проявив себе краще, ніж метод золотого перетину, що є очевидним, оскільки метод використовує квадратичну апроксимацію, що працює швидше, ніж метод що використовує правило виключення інтервалів.\n",
        "Також не дуже сильно збіжність даного методу залежить від значення параметру в алгоритмі Свенна. Стандартне значення 0.1 і виявилося найбільш оптимальним в даному випадку.\n",
        "\n",
        "Найбільш оптимальні параметри:\n",
        "\n",
        "\n",
        "*   Крок обчислення похідних - 0.00001\n",
        "*   Схема обчислення похідних - Центральна\n",
        "*   Метод одновимірного пошуку - ДСК-Пауелла\n",
        "* Точність методу одномірного пошуку -  0.01\n",
        "* Параметр у алгоритмі Свена - 0.1\n",
        "* Точність методу - 0.001\n",
        "\n",
        "Був знайдений мінімум $[1, 1]$\n",
        "\n"
      ]
    },
    {
      "cell_type": "markdown",
      "metadata": {
        "id": "yjMCfrabV0RO"
      },
      "source": [
        "**Автор**\n",
        "\n",
        "vpusak629@gmail.com\n",
        "\n",
        "[LinkedIn](https://www.linkedin.com/in/vadim-pusiak-0a85851a8/)"
      ]
    },
    {
      "cell_type": "markdown",
      "metadata": {
        "id": "6OZ5KIDoW3h3"
      },
      "source": [
        "**Список викорастаних джерел**\n",
        "\n",
        "1. [https://habr.com/ru/post/470638/](https://habr.com/ru/post/470638/)\n",
        "\n",
        "2. Т. С. Ладогубец. «Методы оптимизации» - электронный конспект. Киев.\n",
        "\n",
        "3. Д. Химмельблау. «Прикладное нелинейное программирование». М .; «Мир», 1975."
      ]
    }
  ]
}